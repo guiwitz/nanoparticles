{
 "cells": [
  {
   "cell_type": "markdown",
   "metadata": {},
   "source": [
    "# Particle segmentation App\n",
    "\n",
    "### If you have not already uploaded data, click on the link below data and use the Upload button:\n",
    "### [Adding data](https://fl-7-206.zhdk.cloud.switch.ch)"
   ]
  },
  {
   "cell_type": "code",
   "execution_count": 2,
   "metadata": {},
   "outputs": [],
   "source": [
    "import os, glob, copy\n",
    "import pandas as pd\n",
    "import numpy as np\n",
    "import matplotlib.pyplot as plt\n",
    "import ipywidgets as widgets\n",
    "import nanoparticles as nano\n",
    "import skimage\n",
    "from matplotlib.font_manager import FontProperties\n",
    "from IPython.display import clear_output\n",
    "from tqdm import tqdm_notebook\n",
    "\n",
    "plt.style.use('ggplot')\n",
    "font = FontProperties()\n",
    "font.set_style('normal')\n",
    "font.set_size(15)"
   ]
  },
  {
   "cell_type": "code",
   "execution_count": 19,
   "metadata": {},
   "outputs": [],
   "source": [
    "path_widget = widgets.Select(options = ['None','...']+os.listdir(), value = 'None', rows = 10)\n",
    "#path_widget.layout.width = '400px'\n",
    "\n",
    "scale_widget = widgets.FloatText(step = 0.1, value=1.0, description='Scale:',disabled=False)\n",
    "\n",
    "match_widget = widgets.FloatSlider(description = 'Quality',min = 0, max = 1, \n",
    "                                   step = 0.1, value = 0.5, continuous_update = False)\n",
    "\n",
    "minrad_widget = widgets.IntSlider(description = 'Min radius',min = 0, max = 100, \n",
    "                                   step = 10, value = 30, continuous_update = False)\n",
    "\n",
    "maxrad_widget = widgets.IntSlider(description = 'Max radius',min = 0, max = 100, \n",
    "                                   step = 10, value = 50, continuous_update = False)\n",
    "\n",
    "do_widget = widgets.Dropdown(\n",
    "    options=['No', 'Single', 'All'],\n",
    "    value='No',\n",
    "    description='Running:',\n",
    "    disabled=False,\n",
    ")\n",
    "\n",
    "plotall_widget = widgets.Checkbox(description = 'Plot each image', value=False)"
   ]
  },
  {
   "cell_type": "code",
   "execution_count": 15,
   "metadata": {},
   "outputs": [],
   "source": [
    "class Nano:\n",
    "    \n",
    "    def __init__(self):\n",
    "        \n",
    "        self.image = None\n",
    "        self.circles = None\n",
    "        self.all_radii = None\n",
    "        self.plotting = False\n",
    "        self.fig = None\n",
    "\n",
    "current_nano = Nano()"
   ]
  },
  {
   "cell_type": "code",
   "execution_count": 16,
   "metadata": {},
   "outputs": [],
   "source": [
    "def analyze_particles(path_to_file, min_rad, max_rad, scale, match_quality = 0.2, do_analysis = False, plot_all = False):\n",
    "    \"\"\"Main function analyzing particles size in EM images\n",
    "    \n",
    "    Parameters\n",
    "    ----------\n",
    "    path_to_file : str\n",
    "        path to folder containing tif files\n",
    "    minrad: int\n",
    "        minimum radius to consider\n",
    "    maxrad: int\n",
    "        maximum radius to consider\n",
    "    scale: float\n",
    "        image scale (in nanometer per pixel)\n",
    "    match_quality: float\n",
    "        threshold on matching quality. 0 means all local maxima are selected\n",
    "    do_analysis: bool\n",
    "        Run analysis or not\n",
    "    \n",
    "    Returns\n",
    "    -------\n",
    "    all_radii: list\n",
    "        list of all measured radii in all images\n",
    "    \n",
    "    \"\"\"    \n",
    "    \n",
    "    old_plotting= copy.copy(current_nano.plotting)\n",
    "    current_nano.plotting = copy.copy(plot_all)\n",
    "    if old_plotting and not plot_all:\n",
    "        fig, ax = plt.subplots(figsize=(0.1,0.1))\n",
    "        ax.set_axis_off()\n",
    "        plt.show()\n",
    "        return\n",
    "    \n",
    "    if path_to_file == 'None':\n",
    "        None\n",
    "    elif path_to_file =='...':\n",
    "        newpath = os.path.dirname(os.getcwd())\n",
    "        os.chdir(newpath)\n",
    "        if len(os.listdir(newpath))==0:\n",
    "            path_widget.value = 'None'\n",
    "            path_widget.options = ['None', '...']\n",
    "        else:\n",
    "            #os.chdir(newpath)\n",
    "            path_widget.options = ['None','...']+os.listdir()\n",
    "            path_widget.value = 'None'#os.listdir(newpath)[0]\n",
    "\n",
    "    else:\n",
    "        newpath = os.path.abspath(os.curdir)+'/'+path_to_file\n",
    "        if os.path.isdir(newpath):\n",
    "            os.chdir(newpath)\n",
    "            if len(os.listdir(newpath))==0:\n",
    "                path_widget.options = ['None', '...']\n",
    "                path_widget.value = 'None'\n",
    "            else:\n",
    "                #os.chdir(newpath)\n",
    "                path_widget.options = ['None','...']+os.listdir()\n",
    "                path_widget.value = 'None'#os.listdir(newpath)[0]\n",
    "                \n",
    "    \n",
    "    path_to_file = os.path.abspath(os.curdir)\n",
    "    \n",
    "    \n",
    "    image = []\n",
    "    circles = []\n",
    "    all_radii = []\n",
    "    if do_analysis != 'No':\n",
    "        \n",
    "        tif_files = glob.glob(path_to_file+'/*tif')\n",
    "        if do_analysis == 'Single':\n",
    "            tif_files = tif_files[0:1]\n",
    "\n",
    "        all_radii = []\n",
    "        for tif in tqdm_notebook(tif_files, desc='files'):\n",
    "        #for tif in tif_files:\n",
    "            image = skimage.io.imread(tif)\n",
    "            if len(image.shape)==3:\n",
    "                image = image[:,:,1]+0.001\n",
    "            im_filt = nano.init_filtering(image, np.arange(min_rad, max_rad,10))\n",
    "            radii, circles, intensities = nano.muli_radius_fitting(image, im_filt, min_rad, max_rad, match_quality)\n",
    "\n",
    "            if plot_all:\n",
    "                fig, ax = plt.subplots(1,2,figsize=(15,7))\n",
    "                current_nano.fig  =fig\n",
    "                ax[0].imshow(image, cmap = 'gray')\n",
    "\n",
    "                if len(circles) > 0:\n",
    "                    for x in circles:\n",
    "                        plot_circ = plt.Circle((x[1], x[0]), x[2], color='r',linewidth = 1, faceColor = [1,1,1,0])\n",
    "                        ax[0].add_artist(plot_circ)\n",
    "                    ax[0].set_axis_off()\n",
    "\n",
    "                if len(radii) > 0:\n",
    "                    ax[1].hist(np.array(radii)*scale, bins = np.linspace(np.min(radii),np.max(radii),10)*scale)\n",
    "                    ax[1].set_xlabel('Radius [nm]',fontproperties = font)\n",
    "                    ax[1].set_ylabel('Count',fontproperties = font)\n",
    "                    ax[1].tick_params(labelsize=12)\n",
    "\n",
    "                plt.show()\n",
    "\n",
    "            #plot_detection(image, circles, radii, scale)\n",
    "            pd_temp = pd.DataFrame({'radii': radii,'intensities': intensities, 'filename': os.path.basename(tif)})\n",
    "            all_radii.append(pd_temp)\n",
    "        all_radii = pd.concat(all_radii)\n",
    "        current_nano.all_radii = all_radii\n",
    "    return image, circles, all_radii"
   ]
  },
  {
   "cell_type": "code",
   "execution_count": 23,
   "metadata": {},
   "outputs": [],
   "source": [
    "out = widgets.interactive_output(analyze_particles,\n",
    "                                 {'path_to_file': path_widget,\n",
    "                                  'match_quality': match_widget,\n",
    "                                 'min_rad': minrad_widget,\n",
    "                                 'max_rad': maxrad_widget,\n",
    "                                 'scale': scale_widget,\n",
    "                                 'do_analysis': do_widget,\n",
    "                                 'plot_all': plotall_widget})\n",
    "ui = widgets.VBox([widgets.VBox([widgets.Label('Select folder containing tif files'),path_widget]), match_widget, minrad_widget, maxrad_widget,scale_widget, do_widget,plotall_widget])\n",
    "                   "
   ]
  },
  {
   "cell_type": "code",
   "execution_count": 24,
   "metadata": {
    "scrolled": false
   },
   "outputs": [
    {
     "data": {
      "application/vnd.jupyter.widget-view+json": {
       "model_id": "7dfc67a63743403fb151240ea8909fa6",
       "version_major": 2,
       "version_minor": 0
      },
      "text/plain": [
       "VBox(children=(VBox(children=(Label(value='Select folder containing tif files'), Select(options=('None', '...'…"
      ]
     },
     "metadata": {},
     "output_type": "display_data"
    },
    {
     "data": {
      "application/vnd.jupyter.widget-view+json": {
       "model_id": "21a1d9e5aa2c4d4e954feafdaeae99ab",
       "version_major": 2,
       "version_minor": 0
      },
      "text/plain": [
       "Output()"
      ]
     },
     "metadata": {},
     "output_type": "display_data"
    }
   ],
   "source": [
    "display(ui, out)"
   ]
  },
  {
   "cell_type": "code",
   "execution_count": 8,
   "metadata": {},
   "outputs": [],
   "source": [
    "def plot_final(current_nano):\n",
    "    clear_output()\n",
    "    #plt.clf()\n",
    "    display(final_button)\n",
    "    fig, ax = plt.subplots()\n",
    "    plt.hist(current_nano.all_radii.radii*scale_widget.value, \n",
    "             bins = np.linspace(current_nano.all_radii.radii.min(),current_nano.all_radii.radii.max(),10)*scale_widget.value)\n",
    "    ax.set_xlabel('Radius [nm]',fontproperties = font)\n",
    "    ax.set_ylabel('Count',fontproperties = font)\n",
    "    ax.tick_params(labelsize=12)\n",
    "\n",
    "def on_click_action(b):\n",
    "    plot_final(current_nano)\n",
    "    "
   ]
  },
  {
   "cell_type": "code",
   "execution_count": 9,
   "metadata": {},
   "outputs": [],
   "source": [
    "final_button = widgets.Button(description = 'Plot final')\n",
    "final_button.on_click(on_click_action)"
   ]
  },
  {
   "cell_type": "code",
   "execution_count": 10,
   "metadata": {},
   "outputs": [
    {
     "data": {
      "application/vnd.jupyter.widget-view+json": {
       "model_id": "9843ead4c2b84b72814e102063a06b1c",
       "version_major": 2,
       "version_minor": 0
      },
      "text/plain": [
       "Button(description='Plot final', style=ButtonStyle())"
      ]
     },
     "metadata": {},
     "output_type": "display_data"
    }
   ],
   "source": [
    "final_button"
   ]
  }
 ],
 "metadata": {
  "kernelspec": {
   "display_name": "Python 3",
   "language": "python",
   "name": "python3"
  },
  "language_info": {
   "codemirror_mode": {
    "name": "ipython",
    "version": 3
   },
   "file_extension": ".py",
   "mimetype": "text/x-python",
   "name": "python",
   "nbconvert_exporter": "python",
   "pygments_lexer": "ipython3",
   "version": "3.6.7"
  },
  "toc": {
   "base_numbering": 1,
   "nav_menu": {},
   "number_sections": false,
   "sideBar": true,
   "skip_h1_title": false,
   "title_cell": "Table of Contents",
   "title_sidebar": "Contents",
   "toc_cell": false,
   "toc_position": {},
   "toc_section_display": true,
   "toc_window_display": true
  }
 },
 "nbformat": 4,
 "nbformat_minor": 2
}
